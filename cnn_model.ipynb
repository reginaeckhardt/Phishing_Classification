{
 "cells": [
  {
   "cell_type": "code",
   "execution_count": 1,
   "metadata": {},
   "outputs": [],
   "source": [
    "def build_model(input_size):\n",
    "    from keras.layers import Conv1D, Embedding, Input, MaxPooling1D\n",
    "    from keras.layers.core import Dense, Dropout, Flatten\n",
    "    from keras.models import Model\n",
    "    from keras.layers.merge import concatenate\n",
    "    max_length = 350\n",
    "    vocab_size = 10000\n",
    "    inputs1 = Input(shape=(max_length,))\n",
    "    embedding1 = Embedding(vocab_size, 100)(inputs1)\n",
    "    conv1 = Conv1D(filters=48, kernel_size=4, activation='relu')(embedding1)\n",
    "    drop1 = Dropout(0.9)(conv1)\n",
    "    pool1 = MaxPooling1D(pool_size=2)(drop1)\n",
    "    flat1 = Flatten()(pool1)\n",
    "    \n",
    "    inputs2 = Input(shape=(max_length,))\n",
    "    embedding2 = Embedding(vocab_size, 100)(inputs2)\n",
    "    conv2 = Conv1D(filters=48, kernel_size=6, activation='relu')(embedding2)\n",
    "    drop2 = Dropout(0.9)(conv2)\n",
    "    pool2 = MaxPooling1D(pool_size=2)(drop2)\n",
    "    flat2 = Flatten()(pool2)\n",
    "    \n",
    "    inputs3 = Input(shape=(max_length,))\n",
    "    embedding3 = Embedding(vocab_size, 100)(inputs3)\n",
    "    conv3 = Conv1D(filters=48, kernel_size=8, activation='relu')(embedding3)\n",
    "    drop3 = Dropout(0.9)(conv3)\n",
    "    pool3 = MaxPooling1D(pool_size=2)(drop3)\n",
    "    flat3 = Flatten()(pool3)\n",
    "    merged = concatenate([flat1, flat2, flat3])\n",
    "\n",
    "    dense1 = Dense(10, activation='relu')(merged)\n",
    "#outputs = Dense(1, activation='sigmoid')(dense1)\n",
    "    outputs = Dense(2, activation='softmax')(dense1)\n",
    "    model_cnn = Model(inputs=[inputs1, inputs2, inputs3], outputs=outputs)\n",
    "    \n",
    "    print(model_cnn.summary())\n",
    "    return model_cnn"
   ]
  },
  {
   "cell_type": "code",
   "execution_count": null,
   "metadata": {},
   "outputs": [],
   "source": []
  }
 ],
 "metadata": {
  "kernelspec": {
   "display_name": "Python 3",
   "language": "python",
   "name": "python3"
  },
  "language_info": {
   "codemirror_mode": {
    "name": "ipython",
    "version": 3
   },
   "file_extension": ".py",
   "mimetype": "text/x-python",
   "name": "python",
   "nbconvert_exporter": "python",
   "pygments_lexer": "ipython3",
   "version": "3.7.4"
  }
 },
 "nbformat": 4,
 "nbformat_minor": 2
}
