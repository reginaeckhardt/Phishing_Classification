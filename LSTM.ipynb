{
 "cells": [
  {
   "cell_type": "code",
   "execution_count": null,
   "metadata": {},
   "outputs": [],
   "source": [
    "embedding_vector_length = 100\n",
    "model_lstm = Sequential()\n",
    "#im alten Code waren es 500000\n",
    "model_lstm.add(Embedding(10000,embedding_vector_length, input_length=max_length))\n",
    "model_lstm.add(LSTM(100))\n",
    "model_lstm.add(Dense(10, activation='relu'))\n",
    "model_lstm.add(Dense(2, activation='softmax'))\n",
    "model_lstm.compile(loss='binary_crossentropy', optimizer='adam', metrics=['accuracy'])\n",
    "print(model_lstm.summary())\n",
    "#plot_model(model_lstm, to_file='lstm_plot.png', show_shapes=True, show_layer_names=True)"
   ]
  },
  {
   "cell_type": "code",
   "execution_count": null,
   "metadata": {},
   "outputs": [],
   "source": [
    "trainX = np.vstack(trainX)\n",
    "model_lstm.fit(trainX, y_train1, epochs=1, batch_size=64, validation_data=(testX , y_test1), verbose=1)"
   ]
  },
  {
   "cell_type": "code",
   "execution_count": null,
   "metadata": {},
   "outputs": [],
   "source": [
    "def predict(text):\n",
    "    stem_texts = [stemSentence(x) for x in text]\n",
    "    encoded_texts = [one_hot(t,vocab_size) for t in stem_texts]\n",
    "    encoded_input = pad_sequences(encoded_texts,maxlen=max_length,padding=\"post\",truncating=\"post\")\n",
    "    return model_lstm.predict([encoded_input])"
   ]
  },
  {
   "cell_type": "code",
   "execution_count": null,
   "metadata": {},
   "outputs": [],
   "source": [
    "class_names = ['Spam','Phishing']\n",
    "explainer = LimeTextExplainer(class_names=class_names)\n",
    "idx = 10\n",
    "exp = explainer.explain_instance(X_test[idx], predict, num_features=6)\n",
    "#print('Document i: %d' % idx)\n",
    "print('Probability(Spam) =', predict([X_test[idx]])[0,0])\n",
    "print('True class: %s' % class_names[y_test[idx]])"
   ]
  },
  {
   "cell_type": "code",
   "execution_count": null,
   "metadata": {},
   "outputs": [],
   "source": [
    "exp.as_list()"
   ]
  },
  {
   "cell_type": "code",
   "execution_count": null,
   "metadata": {},
   "outputs": [],
   "source": [
    "exp.show_in_notebook(text=True)"
   ]
  },
  {
   "cell_type": "code",
   "execution_count": null,
   "metadata": {},
   "outputs": [],
   "source": [
    "explainer1 = shap.DeepExplainer (model_lstm, trainX[:10])\n",
    "shap_values = explainer1.shap_values(testX[:1])"
   ]
  },
  {
   "cell_type": "code",
   "execution_count": null,
   "metadata": {},
   "outputs": [],
   "source": [
    "shap.summary_plot(shap_values)"
   ]
  },
  {
   "cell_type": "code",
   "execution_count": null,
   "metadata": {},
   "outputs": [],
   "source": [
    "dataset_folder = '/Users/marcotcr/phd/datasets/'\n",
    "dataset = utils.load_dataset('adult', balance=True, dataset_folder=dataset_folder)"
   ]
  }
 ],
 "metadata": {
  "kernelspec": {
   "display_name": "Python 3",
   "language": "python",
   "name": "python3"
  },
  "language_info": {
   "codemirror_mode": {
    "name": "ipython",
    "version": 3
   },
   "file_extension": ".py",
   "mimetype": "text/x-python",
   "name": "python",
   "nbconvert_exporter": "python",
   "pygments_lexer": "ipython3",
   "version": "3.7.4"
  }
 },
 "nbformat": 4,
 "nbformat_minor": 2
}
